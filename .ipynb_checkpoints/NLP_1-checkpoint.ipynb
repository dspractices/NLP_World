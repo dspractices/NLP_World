{
 "cells": [
  {
   "cell_type": "code",
   "execution_count": 1,
   "id": "1463d668-a3b5-4c62-b22e-bd92b3e5ad1d",
   "metadata": {},
   "outputs": [],
   "source": [
    "# NLP - Nijan Balan"
   ]
  },
  {
   "cell_type": "code",
   "execution_count": null,
   "id": "f9aabdf0-93eb-4dd8-a4f6-858c777335cc",
   "metadata": {},
   "outputs": [],
   "source": []
  }
 ],
 "metadata": {
  "kernelspec": {
   "display_name": "Python 3 (ipykernel)",
   "language": "python",
   "name": "python3"
  },
  "language_info": {
   "codemirror_mode": {
    "name": "ipython",
    "version": 3
   },
   "file_extension": ".py",
   "mimetype": "text/x-python",
   "name": "python",
   "nbconvert_exporter": "python",
   "pygments_lexer": "ipython3",
   "version": "3.12.4"
  }
 },
 "nbformat": 4,
 "nbformat_minor": 5
}
