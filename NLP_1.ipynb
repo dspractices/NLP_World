{
 "cells": [
  {
   "cell_type": "code",
   "execution_count": 1,
   "id": "1463d668-a3b5-4c62-b22e-bd92b3e5ad1d",
   "metadata": {},
   "outputs": [],
   "source": [
    "# NLP - Nijan Balan"
   ]
  },
  {
   "cell_type": "markdown",
   "id": "43f22766-be69-48ff-b250-dbcaa465ece7",
   "metadata": {},
   "source": [
    "# Regex Tutorial"
   ]
  },
  {
   "cell_type": "code",
   "execution_count": 22,
   "id": "7b681e58-e558-4596-b358-fd014fab762b",
   "metadata": {},
   "outputs": [
    {
     "data": {
      "text/plain": [
       "['1-555-123-4567', '1555122289']"
      ]
     },
     "execution_count": 22,
     "metadata": {},
     "output_type": "execute_result"
    }
   ],
   "source": [
    "import re\n",
    "import warnings\n",
    "warnings.filterwarnings('ignore')\n",
    "# extract Phone Number\n",
    "Sample_txt='Please ensure that all updates are committed to the GitHub repository by 5:00 PM (UTC) on 19/10/2024. \\\n",
    "For any urgent issues, contact the project manager at pm@company.com or call +1-555-123-4567 or +1555122289.'\n",
    "\n",
    "pattern = '\\s[+]+([\\d-]+)'\n",
    "matches = re.findall(pattern, Sample_txt)\n",
    "matches"
   ]
  },
  {
   "cell_type": "code",
   "execution_count": 24,
   "id": "2e83c425-076c-4818-9ad9-e29a1e050ee6",
   "metadata": {},
   "outputs": [
    {
     "data": {
      "text/plain": [
       "['pm@company.com']"
      ]
     },
     "execution_count": 24,
     "metadata": {},
     "output_type": "execute_result"
    }
   ],
   "source": [
    "# For mail capture\n",
    "pattern = '[a-zA-Z0-9_]*\\@[a-zA-Z]*\\.[a-zA-Z]*'\n",
    "matches = re.findall(pattern, Sample_txt)\n",
    "matches"
   ]
  },
  {
   "cell_type": "code",
   "execution_count": 26,
   "id": "61ad1085-3546-4b8f-be0f-82abdbca4c6c",
   "metadata": {},
   "outputs": [],
   "source": [
    "def get_pattern_match(pattern, text):\n",
    "    matches = re.findall(pattern, text)\n",
    "    if matches:\n",
    "        return matches[0]"
   ]
  },
  {
   "cell_type": "code",
   "execution_count": 32,
   "id": "4cee4b7a-74f6-4c5d-9da4-df94c243dda4",
   "metadata": {},
   "outputs": [],
   "source": [
    "text='''\n",
    "Born\tElon Reeve Musk\n",
    "June 28, 1971 (age 50)\n",
    "Pretoria, Transvaal, South Africa\n",
    "Citizenship\t\n",
    "South Africa (1971–present)\n",
    "Canada (1971–present)\n",
    "United States (2002–present)\n",
    "Education\tUniversity of Pennsylvania (BS, BA)\n",
    "Title\t\n",
    "Founder, CEO and Chief Engineer of SpaceX\n",
    "CEO and product architect of Tesla, Inc.\n",
    "Founder of The Boring Company and X.com (now part of PayPal)\n",
    "Co-founder of Neuralink, OpenAI, and Zip2\n",
    "Spouse(s)\t\n",
    "Justine Wilson\n",
    "​\n",
    "​(m. 2000; div. 2008)​\n",
    "Talulah Riley\n",
    "​\n",
    "​(m. 2010; div. 2012)​\n",
    "​\n",
    "​(m. 2013; div. 2016)\n",
    "'''"
   ]
  },
  {
   "cell_type": "code",
   "execution_count": 33,
   "id": "ebf0445e-39aa-428f-9547-5f7eb91d3a78",
   "metadata": {},
   "outputs": [],
   "source": [
    "def extract_personal_information(text):\n",
    "    age = get_pattern_match('age (\\d+)', text)\n",
    "    full_name = get_pattern_match('Born(.*)\\n', text)\n",
    "    birth_date = get_pattern_match('Born.*\\n(.*)\\(age', text)\n",
    "    birth_place = get_pattern_match('\\(age.*\\n(.*)', text)\n",
    "    return {\n",
    "        'age': int(age),\n",
    "        'name': full_name.strip(),\n",
    "        'birth_date': birth_date.strip(),\n",
    "        'birth_place': birth_place.strip()\n",
    "    }"
   ]
  },
  {
   "cell_type": "code",
   "execution_count": 34,
   "id": "66ee63f2-f5e8-456e-939d-d7cb2259bd25",
   "metadata": {},
   "outputs": [
    {
     "data": {
      "text/plain": [
       "{'age': 50,\n",
       " 'name': 'Elon Reeve Musk',\n",
       " 'birth_date': 'June 28, 1971',\n",
       " 'birth_place': 'Pretoria, Transvaal, South Africa'}"
      ]
     },
     "execution_count": 34,
     "metadata": {},
     "output_type": "execute_result"
    }
   ],
   "source": [
    "extract_personal_information(text)"
   ]
  },
  {
   "cell_type": "code",
   "execution_count": null,
   "id": "8016f546-1295-4287-87aa-f3315dd3ef15",
   "metadata": {},
   "outputs": [],
   "source": []
  }
 ],
 "metadata": {
  "kernelspec": {
   "display_name": "Python 3 (ipykernel)",
   "language": "python",
   "name": "python3"
  },
  "language_info": {
   "codemirror_mode": {
    "name": "ipython",
    "version": 3
   },
   "file_extension": ".py",
   "mimetype": "text/x-python",
   "name": "python",
   "nbconvert_exporter": "python",
   "pygments_lexer": "ipython3",
   "version": "3.12.4"
  }
 },
 "nbformat": 4,
 "nbformat_minor": 5
}
